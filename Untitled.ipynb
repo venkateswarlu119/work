{
 "cells": [
  {
   "cell_type": "code",
   "execution_count": 1,
   "id": "9b00e079-c462-49d3-92a5-a057090609f1",
   "metadata": {},
   "outputs": [],
   "source": [
    "a=4"
   ]
  },
  {
   "cell_type": "code",
   "execution_count": 3,
   "id": "b80a008e-ff49-4927-bdd3-2250393b8eb4",
   "metadata": {},
   "outputs": [
    {
     "ename": "SyntaxError",
     "evalue": "Missing parentheses in call to 'print'. Did you mean print(...)? (2746816243.py, line 1)",
     "output_type": "error",
     "traceback": [
      "\u001b[1;36m  Cell \u001b[1;32mIn[3], line 1\u001b[1;36m\u001b[0m\n\u001b[1;33m    print a;\u001b[0m\n\u001b[1;37m    ^\u001b[0m\n\u001b[1;31mSyntaxError\u001b[0m\u001b[1;31m:\u001b[0m Missing parentheses in call to 'print'. Did you mean print(...)?\n"
     ]
    }
   ],
   "source": [
    "print a;"
   ]
  },
  {
   "cell_type": "code",
   "execution_count": 5,
   "id": "cf1543df-fa45-4e4d-836c-ac066715eddc",
   "metadata": {},
   "outputs": [
    {
     "name": "stdout",
     "output_type": "stream",
     "text": [
      "A: 4\n"
     ]
    }
   ],
   "source": [
    "print(\"A:\", a)"
   ]
  },
  {
   "cell_type": "code",
   "execution_count": null,
   "id": "cc1cdce9-967b-430b-94c9-f69b5bafbc1c",
   "metadata": {},
   "outputs": [],
   "source": []
  }
 ],
 "metadata": {
  "kernelspec": {
   "display_name": "Python 3 (ipykernel)",
   "language": "python",
   "name": "python3"
  },
  "language_info": {
   "codemirror_mode": {
    "name": "ipython",
    "version": 3
   },
   "file_extension": ".py",
   "mimetype": "text/x-python",
   "name": "python",
   "nbconvert_exporter": "python",
   "pygments_lexer": "ipython3",
   "version": "3.10.14"
  }
 },
 "nbformat": 4,
 "nbformat_minor": 5
}
